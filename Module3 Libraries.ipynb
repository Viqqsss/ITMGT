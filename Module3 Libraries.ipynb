{
 "cells": [
  {
   "cell_type": "code",
   "execution_count": 1,
   "id": "557af3bd-468d-484e-98d0-e67bda6abf89",
   "metadata": {},
   "outputs": [],
   "source": [
    "import numpy as np"
   ]
  },
  {
   "cell_type": "code",
   "execution_count": 2,
   "id": "54ef724e-2cbc-4079-8703-f3f7f673cbcd",
   "metadata": {},
   "outputs": [
    {
     "name": "stdout",
     "output_type": "stream",
     "text": [
      "[10 20 30 40]\n",
      "<class 'numpy.ndarray'>\n"
     ]
    }
   ],
   "source": [
    "my_list = [10, 20, 30 ,40]\n",
    "\n",
    "my_array = np.array(my_list)\n",
    "print(my_array)\n",
    "print(type(my_array)) #Has already been transformed into an array"
   ]
  },
  {
   "cell_type": "code",
   "execution_count": 4,
   "id": "f22b4e3c-486c-43f3-9199-30dfb59a2aa7",
   "metadata": {},
   "outputs": [
    {
     "name": "stdout",
     "output_type": "stream",
     "text": [
      "[[1, 2, 3], [4, 5, 6], [7, 8, 9]]\n",
      "[[1 2 3]\n",
      " [4 5 6]\n",
      " [7 8 9]]\n"
     ]
    }
   ],
   "source": [
    "#2D Multidimensional list\n",
    "\n",
    "my_list = [[1,2,3],[4,5,6],[7,8,9]]\n",
    "print(my_list)\n",
    "\n",
    "my_matrix = np.array(my_list)\n",
    "print(my_matrix) \n",
    "\n",
    "#For data preparation"
   ]
  },
  {
   "cell_type": "code",
   "execution_count": 6,
   "id": "30e1b1bb-b026-4e19-84f4-dbbaaa6c03d0",
   "metadata": {},
   "outputs": [
    {
     "name": "stdout",
     "output_type": "stream",
     "text": [
      "[ 0  1  2  3  4  5  6  7  8  9 10 11 12 13 14 15 16 17 18 19]\n",
      "[ 2  4  6  8 10 12 14 16 18]\n"
     ]
    }
   ],
   "source": [
    "#Built-in Methods\n",
    "\n",
    "#np.aragne(start num, end num, interval)\n",
    "print(np.arange(20))\n",
    "print(np.arange(2,20,2))\n"
   ]
  },
  {
   "cell_type": "code",
   "execution_count": null,
   "id": "761b5064-edea-457a-bc7e-7e21cd819c5b",
   "metadata": {},
   "outputs": [],
   "source": [
    "print(np.zeros(3)"
   ]
  },
  {
   "cell_type": "code",
   "execution_count": null,
   "id": "0d33a124-d6b7-400d-a619-2196faa73504",
   "metadata": {},
   "outputs": [],
   "source": [
    "#Randomization of Numbers\n",
    "\n",
    "#random.rand\n",
    "#randomrandn\n",
    "#random.randint\n",
    "#random.normal"
   ]
  },
  {
   "cell_type": "code",
   "execution_count": null,
   "id": "e27f1c68-e3e5-427a-86f9-e28bcadea551",
   "metadata": {},
   "outputs": [],
   "source": [
    "#rand \n",
    "print(np.random.rand(3))\n",
    "print(\"----\")\n",
    "print(np.random."
   ]
  },
  {
   "cell_type": "code",
   "execution_count": null,
   "id": "a196007f-f289-4fb1-b1d1-df7192f73939",
   "metadata": {},
   "outputs": [],
   "source": [
    "#randint\n",
    "\n",
    "print(np.random.randint(!000))\n",
    "print(\"---\")\n",
    "print(np.random.randint(1,10))\n"
   ]
  },
  {
   "cell_type": "code",
   "execution_count": null,
   "id": "5d654e00-35b9-4833-a2dc-8dcbbf70e5ab",
   "metadata": {},
   "outputs": [],
   "source": [
    "#normal\n",
    "\n",
    "print(np.random.normal(165,5,10))"
   ]
  },
  {
   "cell_type": "markdown",
   "id": "35e1ce7b-548e-4cde-9906-45133a8db4a0",
   "metadata": {
    "jp-MarkdownHeadingCollapsed": true
   },
   "source": [
    "Batch Grading Demo"
   ]
  },
  {
   "cell_type": "code",
   "execution_count": 7,
   "id": "30f38c04-242e-4fda-86b4-4915f8c1dd06",
   "metadata": {},
   "outputs": [
    {
     "name": "stdout",
     "output_type": "stream",
     "text": [
      "[88.62538761 86.95541131 83.88050389 85.99766114 87.85207708 81.61264569\n",
      " 84.79098113 86.53363626 88.70999503 83.91791458 84.1651418  85.43538772\n",
      " 83.31134371 78.80028354 82.5956471  86.47696945 85.21349352 85.31565397\n",
      " 86.13048315 87.02472352 89.42765751 88.02230687 77.59042718 85.91015064\n",
      " 86.14763943 90.26110022 86.5943647  83.32784267 80.2371108  87.33176495\n",
      " 81.03283404 81.21897626 88.79134216 87.7984188  77.30271345 85.81079075\n",
      " 84.38126965 83.75655123 85.44078877 84.37301631 87.29874497 85.28194136\n",
      " 88.26075756 85.29811165 76.01299438 85.64613931 90.74436673 86.39902099\n",
      " 83.34071434 85.34978853 91.16871754 85.85326521 86.05467655 85.91634847\n",
      " 85.91694467 79.90129977 84.98276792 86.44846206 84.20887389 85.43075688\n",
      " 83.39036336 85.09670133 85.22790939 86.97080641 86.01662635 86.82949006\n",
      " 84.53896795 85.61996071 81.56451555 81.99691669 81.3027043  85.90467336\n",
      " 85.76560641 83.25671261 83.34885283 82.8448405  85.55409062 82.14856738\n",
      " 84.48244026 88.22217055 82.55781372 84.66872435 82.64972214 89.45705558\n",
      " 83.4899391  85.19124982 88.04401783 86.27850529 85.39011368 83.73220428\n",
      " 86.82318012 84.40596717 86.09540994 86.37154152 85.9146702  82.95326097\n",
      " 84.30601241 91.73139319 85.47450717 82.32120465 83.80141329 85.311852\n",
      " 83.18272741 88.66708243 86.62041927 85.28063064 83.54624754 82.24126994\n",
      " 81.74484731 86.27487621 91.78670545 84.58942657 82.43625227 90.35181782\n",
      " 85.79555884 83.17338421 84.14747771 86.84543666 87.25702409 84.51306637\n",
      " 84.35071688 84.1917005  86.16694757 82.6887728  84.23110421 83.50697675\n",
      " 84.11169213 81.95210888 80.72340691 80.92630471 85.86821305 88.03085625\n",
      " 84.79635728 85.83364842 82.27137319 83.08030601 81.68988087 83.25218543\n",
      " 84.71473944 86.38429526 81.6620975  84.36059671 82.6661672  85.32427878\n",
      " 82.16458495 82.48450312 82.62858494 88.66375889 85.89323111 84.04341888\n",
      " 87.26906584 86.41142113 83.10017164 92.76677525 89.73846784 85.35389694\n",
      " 77.62207514 80.58137017 91.65614952 85.68652058 80.95186056 80.70942035\n",
      " 87.12614276 88.20927093 87.94313034 84.78742837 88.90281357 83.34482326\n",
      " 82.40893367 82.21241276 82.59794422 84.50754217 83.17747532 84.04407756\n",
      " 83.31021011 89.28549542 80.98563158 88.34129314 84.47370949 91.79521884\n",
      " 80.79952188 84.54709822 81.01977226 83.3472461  82.45445293 87.50982155\n",
      " 80.28165989 85.22198919 87.51603115 81.8788791  81.33133746 89.06704803\n",
      " 82.54994648 88.01799398 79.89674074 85.18722538 81.09832472 89.29348619\n",
      " 81.69210446 88.59574027]\n"
     ]
    }
   ],
   "source": [
    "raw_scores = np.random.normal(85,3,200)\n",
    "print(raw_scores)"
   ]
  },
  {
   "cell_type": "code",
   "execution_count": 11,
   "id": "b3333fda-6e8e-4e66-bae1-c661d2ec4ecb",
   "metadata": {},
   "outputs": [
    {
     "name": "stdout",
     "output_type": "stream",
     "text": [
      "[ True  True  True  True  True  True  True  True  True  True  True  True\n",
      "  True False  True  True  True  True  True  True  True  True False  True\n",
      "  True  True  True  True  True  True  True  True  True  True False  True\n",
      "  True  True  True  True  True  True  True  True False  True  True  True\n",
      "  True  True  True  True  True  True  True False  True  True  True  True\n",
      "  True  True  True  True  True  True  True  True  True  True  True  True\n",
      "  True  True  True  True  True  True  True  True  True  True  True  True\n",
      "  True  True  True  True  True  True  True  True  True  True  True  True\n",
      "  True  True  True  True  True  True  True  True  True  True  True  True\n",
      "  True  True  True  True  True  True  True  True  True  True  True  True\n",
      "  True  True  True  True  True  True  True  True  True  True  True  True\n",
      "  True  True  True  True  True  True  True  True  True  True  True  True\n",
      "  True  True  True  True  True  True  True  True  True  True  True  True\n",
      " False  True  True  True  True  True  True  True  True  True  True  True\n",
      "  True  True  True  True  True  True  True  True  True  True  True  True\n",
      "  True  True  True  True  True  True  True  True  True  True  True  True\n",
      "  True  True False  True  True  True  True  True]\n",
      "[78.80028354 77.59042718 77.30271345 76.01299438 79.90129977 77.62207514\n",
      " 79.89674074]\n"
     ]
    }
   ],
   "source": [
    "#Dermine who passe dor failed\n",
    "\n",
    "passing_score = 80\n",
    "print(raw_scores >= passing_score)\n",
    "print(raw_scores[raw_scores <= passing_score])\n"
   ]
  },
  {
   "cell_type": "markdown",
   "id": "e2223db8-7701-4894-8815-fbeacfdf00fa",
   "metadata": {},
   "source": []
  },
  {
   "cell_type": "code",
   "execution_count": null,
   "id": "cde5d03d-3cde-42b3-87b7-463f5cd2c832",
   "metadata": {},
   "outputs": [],
   "source": [
    "def get_letter_grade() \n",
    "    "
   ]
  },
  {
   "cell_type": "code",
   "execution_count": null,
   "id": "791ac2f5-8292-4288-9052-8275e3bfe4e7",
   "metadata": {},
   "outputs": [],
   "source": [
    "vfunc = np.vectorize(get_letter_grade)"
   ]
  }
 ],
 "metadata": {
  "kernelspec": {
   "display_name": "Python 3 (ipykernel)",
   "language": "python",
   "name": "python3"
  },
  "language_info": {
   "codemirror_mode": {
    "name": "ipython",
    "version": 3
   },
   "file_extension": ".py",
   "mimetype": "text/x-python",
   "name": "python",
   "nbconvert_exporter": "python",
   "pygments_lexer": "ipython3",
   "version": "3.13.5"
  }
 },
 "nbformat": 4,
 "nbformat_minor": 5
}
