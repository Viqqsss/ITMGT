{
 "cells": [
  {
   "cell_type": "markdown",
   "id": "952473bf-0598-4d2d-818b-f59ba6877aaf",
   "metadata": {},
   "source": [
    "Creating lists\n",
    "The values in the list are called elements or items\n",
    "\n"
   ]
  },
  {
   "cell_type": "code",
   "execution_count": 2,
   "id": "e0bdff9b-2e7d-489b-83ea-f032997a815a",
   "metadata": {},
   "outputs": [
    {
     "data": {
      "text/plain": [
       "['cappucino', 'americano', 'espresso']"
      ]
     },
     "execution_count": 2,
     "metadata": {},
     "output_type": "execute_result"
    }
   ],
   "source": [
    "#demo: list definition\n",
    "['cappucino', 'americano', 'espresso']"
   ]
  },
  {
   "cell_type": "code",
   "execution_count": 3,
   "id": "0090fd7d-4ea3-4c3b-8b31-ffc98c0916a2",
   "metadata": {},
   "outputs": [
    {
     "data": {
      "text/plain": [
       "['cappucino', 110, True]"
      ]
     },
     "execution_count": 3,
     "metadata": {},
     "output_type": "execute_result"
    }
   ],
   "source": [
    "#demo: elements do not need to be of the same\n",
    "['cappucino',110,True]"
   ]
  },
  {
   "cell_type": "code",
   "execution_count": 4,
   "id": "ca6a7950-a8e7-4868-98e9-2e1b4f8b00b5",
   "metadata": {},
   "outputs": [
    {
     "data": {
      "text/plain": [
       "['Espresso Temp', ['Iced', 'Cold']]"
      ]
     },
     "execution_count": 4,
     "metadata": {},
     "output_type": "execute_result"
    }
   ],
   "source": [
    "#demo: nested lists\n",
    "['Espresso Temp', ['Iced', 'Cold'] ]\n"
   ]
  },
  {
   "cell_type": "code",
   "execution_count": 5,
   "id": "86a3eef0-b120-4756-b030-7a7ae9eaa198",
   "metadata": {},
   "outputs": [],
   "source": [
    "# can assign lists to variables\n",
    "products = ['cappucino', 'americano', 'espresso']"
   ]
  },
  {
   "cell_type": "code",
   "execution_count": 6,
   "id": "86f139ab-72f5-4b31-9e3f-fd98a9b4d8d1",
   "metadata": {},
   "outputs": [
    {
     "name": "stdout",
     "output_type": "stream",
     "text": [
      "cappucino\n"
     ]
    }
   ],
   "source": [
    "# indexing\n",
    "products = ['cappucino', 'americano', 'espresso']\n",
    "print(products[0])\n",
    "\n",
    "#you can also have the length\n"
   ]
  },
  {
   "cell_type": "code",
   "execution_count": 7,
   "id": "2c16ed26-545a-4e4d-b68e-270b867a4e51",
   "metadata": {},
   "outputs": [
    {
     "name": "stdout",
     "output_type": "stream",
     "text": [
      "['SOM', 'SOSS', 'SOSE', 'SOM']\n",
      "['JGSOM', 'SOSS', 'SOSE', 'SOM']\n"
     ]
    }
   ],
   "source": [
    "# mutable list\n",
    "schools = ['SOM', 'SOSS', 'SOSE', 'SOM']\n",
    "print(schools)\n",
    "\n",
    "schools[0] = \"JGSOM\"\n",
    "\n",
    "print(schools)"
   ]
  },
  {
   "cell_type": "code",
   "execution_count": 8,
   "id": "e61474ff-7379-4bbb-8c4c-9037310a0fbb",
   "metadata": {},
   "outputs": [],
   "source": [
    "#MERGING LISTS using + Operator"
   ]
  },
  {
   "cell_type": "code",
   "execution_count": 9,
   "id": "ebf423f2-7f4c-4f14-8abd-57d3811c8414",
   "metadata": {},
   "outputs": [
    {
     "name": "stdout",
     "output_type": "stream",
     "text": [
      "['cappucino', 'americano', 'espresso', 'Chicken', 'Lava', 'Steve']\n"
     ]
    }
   ],
   "source": [
    "# merg two lists\n",
    "\n",
    "new_products = ['Chicken', 'Lava', 'Steve']\n",
    "\n",
    "updated_prods = products + new_products\n",
    "\n",
    "print(updated_prods)\n",
    "#does not change the value of the previous lists"
   ]
  },
  {
   "cell_type": "code",
   "execution_count": 10,
   "id": "e903e4c8-da9f-42ba-b8ab-6cec24f599b8",
   "metadata": {},
   "outputs": [],
   "source": [
    "#Slicing lists"
   ]
  },
  {
   "cell_type": "code",
   "execution_count": 11,
   "id": "e2db72b0-5c26-4040-a479-c5db77466602",
   "metadata": {},
   "outputs": [
    {
     "name": "stdout",
     "output_type": "stream",
     "text": [
      "['americano', 'espresso']\n",
      "['cappucino', 'americano', 'espresso']\n",
      "['cappucino', 'espresso', 'Lava']\n",
      "['cappucino', 'americano', 'espresso', 'Chicken', 'Lava', 'Steve']\n"
     ]
    }
   ],
   "source": [
    "# slicing lists \n",
    "# similar to strings\n",
    "\n",
    "print(updated_prods[1:3])\n",
    "print(updated_prods[:3])\n",
    "print(updated_prods[::2]) \n",
    "print(updated_prods[:]) #Prints the entire text"
   ]
  },
  {
   "cell_type": "code",
   "execution_count": 12,
   "id": "e537c66f-f673-4054-baae-f29b76be49e0",
   "metadata": {},
   "outputs": [
    {
     "name": "stdout",
     "output_type": "stream",
     "text": [
      "['cappucino', 'long black', 'double espresso', 'brew of the day', 'Lava', 'Steve']\n"
     ]
    }
   ],
   "source": [
    "# omit first and last indices\n",
    "\n",
    "\n",
    "updated_prods[1:4] = ['long black', 'double espresso', 'brew of the day']\n",
    "print(updated_prods)"
   ]
  },
  {
   "cell_type": "code",
   "execution_count": 13,
   "id": "798d2e19-7a54-4a09-9db6-11aea630af4f",
   "metadata": {},
   "outputs": [
    {
     "name": "stdout",
     "output_type": "stream",
     "text": [
      "6\n",
      "['cappucino', 'long black', 'double espresso', 'brew of the day', 'Lava', 'Steve', 'eggs benedict', 'lemonade', 'iced tea']\n",
      "['Lava', 'Steve', 'brew of the day', 'cappucino', 'double espresso', 'eggs benedict', 'iced tea', 'lemonade', 'long black']\n"
     ]
    },
    {
     "data": {
      "text/plain": [
       "['The', 'quick', 'brown', 'fox', 'jumps', 'over', 'the', 'lazy', 'dogs']"
      ]
     },
     "execution_count": 13,
     "metadata": {},
     "output_type": "execute_result"
    }
   ],
   "source": [
    "#List Functions and Methods\n",
    "#len()\n",
    "print(len(updated_prods))\n",
    "\n",
    "#extend()\n",
    "updated_prods.extend(['eggs benedict', 'lemonade', 'iced tea'])\n",
    "print(updated_prods)\n",
    "\n",
    "#sort()\n",
    "updated_prods.sort()  #temporary sort, but follows capitalization and letters. numbers\n",
    "print(updated_prods)\n",
    "\n",
    "#list()\n",
    "list(\"banana\")\n",
    "\n",
    "#split(delimiter) \n",
    "\"The quick brown fox jumps over the lazy dogs\".split() #Makes a lists separating the strings\n"
   ]
  },
  {
   "cell_type": "code",
   "execution_count": null,
   "id": "aae37aa8-0643-42ae-9072-ae006ead8aa5",
   "metadata": {},
   "outputs": [],
   "source": []
  },
  {
   "cell_type": "code",
   "execution_count": 14,
   "id": "49a657b4-dcae-4da6-bbcf-4a936259ca0c",
   "metadata": {},
   "outputs": [
    {
     "name": "stdout",
     "output_type": "stream",
     "text": [
      "['Joben', 'Joe', 'Elizabeth', 'Lizell']\n"
     ]
    }
   ],
   "source": [
    "customers = \"Joben,Joe,Elizabeth,Lizell\".split(\",\")\n",
    "\n",
    "print(customers)\n"
   ]
  },
  {
   "cell_type": "markdown",
   "id": "316e6c28-aa77-40ba-983e-b5b36e6b9fdd",
   "metadata": {},
   "source": [
    "# Dictionaries"
   ]
  },
  {
   "cell_type": "code",
   "execution_count": 7,
   "id": "1e5a91e2-5f4a-418c-8b95-3ed0d872bc46",
   "metadata": {},
   "outputs": [
    {
     "name": "stdout",
     "output_type": "stream",
     "text": [
      "{'username': 'joben@example.com'}\n"
     ]
    }
   ],
   "source": [
    "#Create a dictionary\n",
    "dl = {\"username\": \"joben@example.com\"}\n",
    "print(dl)\n"
   ]
  },
  {
   "cell_type": "code",
   "execution_count": 8,
   "id": "83fffd2e-4fc1-4b00-a9d8-d1ceeeafd4a3",
   "metadata": {},
   "outputs": [
    {
     "name": "stdout",
     "output_type": "stream",
     "text": [
      "{'username': 'joben@example.com', 'first name': 'Joben', 'last name': 'Ilagan'}\n"
     ]
    }
   ],
   "source": [
    "#set new key/value pair\n",
    "\n",
    "dl['first name'] = 'Joben'\n",
    "dl['last name'] = 'Ilagan'\n",
    "print(dl)"
   ]
  },
  {
   "cell_type": "code",
   "execution_count": 9,
   "id": "7730ddc9-998b-4e56-b985-fb7f7fb12a31",
   "metadata": {},
   "outputs": [
    {
     "name": "stdout",
     "output_type": "stream",
     "text": [
      "joben@example.com\n",
      "Joben\n",
      "Ilagan\n"
     ]
    }
   ],
   "source": [
    "#retrieve value for a given key\n",
    "#key name is case sensitive and has to be exact\n",
    "\n",
    "print(dl[\"username\"])\n",
    "print(dl[\"first name\"])\n",
    "print(dl['last name'])\n"
   ]
  },
  {
   "cell_type": "code",
   "execution_count": 10,
   "id": "d892f27c-5452-46db-bef5-9bd8c1f3f81a",
   "metadata": {},
   "outputs": [
    {
     "name": "stdout",
     "output_type": "stream",
     "text": [
      "An error occured\n",
      "An error occured\n"
     ]
    }
   ],
   "source": [
    "# error referencing a non-existent key\n",
    "try: \n",
    "    print(dl[\"First name\"])\n",
    "except:\n",
    "    print(\"An error occured\")\n",
    "    pass #Python shouldn't do anything else, allows you to ignore for now\n",
    "\n",
    "try: \n",
    "    print(dl[\"first_name\"])\n",
    "except:\n",
    "    print(\"An error occured\")\n",
    "\n"
   ]
  },
  {
   "cell_type": "code",
   "execution_count": 11,
   "id": "fef4da7c-a2da-417a-9616-7b0900b23b2a",
   "metadata": {},
   "outputs": [],
   "source": [
    "#Each item has a key used to reference a value"
   ]
  },
  {
   "cell_type": "code",
   "execution_count": 12,
   "id": "0f2bb861-7e8f-4ecd-8302-a1a5ba243d62",
   "metadata": {},
   "outputs": [
    {
     "name": "stdout",
     "output_type": "stream",
     "text": [
      "{'string key': 'First Value', 1: 'Third Value', (1, 2): '4th Value'}\n"
     ]
    }
   ],
   "source": [
    "#valid use of keys\n",
    "d2 = {} #using curly braces\n",
    "d2['string key'] = 'First Value'\n",
    "d2[1] = \"Second Value\" #Avoid mixing data types for dictionaries\n",
    "d2[True] = \"Third Value\"\n",
    "d2[(1,2)] = '4th Value'\n",
    "print(d2)"
   ]
  },
  {
   "cell_type": "code",
   "execution_count": 13,
   "id": "2e374503-4617-4a42-9e11-361fad84a7a3",
   "metadata": {},
   "outputs": [
    {
     "name": "stdout",
     "output_type": "stream",
     "text": [
      "Invalid operation\n"
     ]
    }
   ],
   "source": [
    "# error using mutable types as keys\n",
    "try:\n",
    "    d2[['a','b']] = '5th Value' \n",
    "except:\n",
    "    print('Invalid operation')"
   ]
  },
  {
   "cell_type": "code",
   "execution_count": 14,
   "id": "3def669b-f565-4cb2-9e46-d2950ffda864",
   "metadata": {},
   "outputs": [],
   "source": [
    "#Dictionary values however could be any data type or anything referencable by name"
   ]
  },
  {
   "cell_type": "code",
   "execution_count": 15,
   "id": "a93b0af8-64bd-4168-9c82-c5191bbe6e9f",
   "metadata": {},
   "outputs": [
    {
     "name": "stdout",
     "output_type": "stream",
     "text": [
      "{'string key': 1, 1: 'Third Value', (1, 2): '4th Value'}\n"
     ]
    }
   ],
   "source": [
    "#Basic datatypes as values\n",
    "\n",
    "d2['string key'] = 1\n",
    "print(d2)"
   ]
  },
  {
   "cell_type": "code",
   "execution_count": 16,
   "id": "3f5bfc05-fe28-4cb1-ada8-e4eef01d7ca0",
   "metadata": {},
   "outputs": [
    {
     "name": "stdout",
     "output_type": "stream",
     "text": [
      "{'list key': ['a', 'b', 'c'], 'set key': {1, 2, 3}, 'dict key': {'a': 1, 'b': 2, 'c': 3}, 'func key': <function f1 at 0x000001E2878249A0>}\n"
     ]
    }
   ],
   "source": [
    "#more complex data types\n",
    "d3 = {}\n",
    "\n",
    "#lists\n",
    "d3['list key'] = ['a', 'b', 'c'] \n",
    "\n",
    "#sets\n",
    "d3['set key'] = {1,2,3,1,2,3}\n",
    "\n",
    "#dictionaries (embedded dict)\n",
    "d3['dict key'] = {'a':1, 'b':2, 'c':3} \n",
    "\n",
    "#functions\n",
    "\n",
    "def f1():\n",
    "    return True\n",
    "d3['func key'] = f1\n",
    "\n",
    "print(d3)\n",
    "\n"
   ]
  },
  {
   "cell_type": "markdown",
   "id": "ad1732cb-fa04-46ca-8a10-c8894b37502d",
   "metadata": {},
   "source": [
    "Dictionary Functions"
   ]
  },
  {
   "cell_type": "code",
   "execution_count": 17,
   "id": "e5ee3f04-c285-446c-8220-8fafd0a1770d",
   "metadata": {},
   "outputs": [
    {
     "name": "stdout",
     "output_type": "stream",
     "text": [
      "{1: 'one', 2: 'two'}\n"
     ]
    }
   ],
   "source": [
    "#dict() another way to start with a fresh dictionary\n",
    "d4 = dict([(1,\"one\"), (2,\"two\")])\n",
    "\n",
    "print(d4)\n",
    "\n"
   ]
  },
  {
   "cell_type": "code",
   "execution_count": 18,
   "id": "278b7f7f-06ae-405a-8cc1-7d61c388ec1e",
   "metadata": {},
   "outputs": [
    {
     "name": "stdout",
     "output_type": "stream",
     "text": [
      "{'username': 'joben@example.com', 'first name': 'Joben', 'last name': 'Ilagan'}\n",
      "dict_keys(['username', 'first name', 'last name'])\n",
      "username\n",
      "first name\n",
      "last name\n",
      "username\n",
      "first name\n",
      "last name\n"
     ]
    }
   ],
   "source": [
    "#keys() returns the keys of a dictionary, its own list \n",
    "print(dl)\n",
    "print(dl.keys()) #the list of keys\n",
    "                #then looks at those keys and prints them individually\n",
    "for k in dl.keys():#directly prints out the keys assigned\n",
    "    print(k)\n",
    "\n",
    "#list comprehension/print keys\n",
    "out = [print(k) for k in dl.keys()] "
   ]
  },
  {
   "cell_type": "code",
   "execution_count": 19,
   "id": "ae4f6132-8eaf-4022-b31f-feebbbabd558",
   "metadata": {},
   "outputs": [
    {
     "name": "stdout",
     "output_type": "stream",
     "text": [
      "dict_items([('username', 'joben@example.com'), ('first name', 'Joben'), ('last name', 'Ilagan')])\n",
      "('username', 'joben@example.com')\n",
      "('first name', 'Joben')\n",
      "('last name', 'Ilagan')\n"
     ]
    }
   ],
   "source": [
    "#items() returns a list of tuples of key/value pairs of the dictionary\n",
    "\n",
    "print(dl.items())\n",
    "\n",
    "#list comprehension/print items\n",
    "out = [print(i) for i in dl.items()] \n"
   ]
  },
  {
   "cell_type": "code",
   "execution_count": 20,
   "id": "19a445c6-1c0e-42c2-8ca5-62c93be61140",
   "metadata": {},
   "outputs": [
    {
     "name": "stdout",
     "output_type": "stream",
     "text": [
      "dict_values(['joben@example.com', 'Joben', 'Ilagan'])\n",
      "joben@example.com\n",
      "Joben\n",
      "Ilagan\n"
     ]
    }
   ],
   "source": [
    "#values()\n",
    "\n",
    "print(dl.values())\n",
    "\n",
    "#list comprehension/print items \n",
    "out = [print (v) for v in dl.values()]  #print out the values without the keys"
   ]
  },
  {
   "cell_type": "code",
   "execution_count": 21,
   "id": "2ca1af14-6849-41ff-853c-b6cf9acb1936",
   "metadata": {},
   "outputs": [
    {
     "name": "stdout",
     "output_type": "stream",
     "text": [
      "Joben\n",
      "Ilagan\n"
     ]
    }
   ],
   "source": [
    "#get()\n",
    "\n",
    "print(dl.get('first name')) #similar to dl['first name'] \n",
    "print(dl.get('last name'))"
   ]
  },
  {
   "cell_type": "code",
   "execution_count": 22,
   "id": "3ab72665-495b-46b1-9fee-a2c2026449d4",
   "metadata": {},
   "outputs": [
    {
     "name": "stdout",
     "output_type": "stream",
     "text": [
      "Key 'address' does not yet exist\n",
      "Pasig\n",
      "Pasig\n",
      "QC\n"
     ]
    }
   ],
   "source": [
    "#setdefault() setting the addresss\n",
    "\n",
    "try:\n",
    "    print(dl[\"address\"])\n",
    "except:\n",
    "    print(\"Key 'address' does not yet exist\")\n",
    "          \n",
    "#bew key if the key doesn't exisst then make a new key\n",
    "address = dl.setdefault('address','Pasig')\n",
    "print(address)\n",
    "\n",
    "#existing key\n",
    "address = dl.setdefault('address','QC')\n",
    "print(address) #since address always exist, it is not the same as updating the value\n",
    "\n",
    "dl['address'] = \"QC\"\n",
    "print(dl['address']) #This is how you properly update"
   ]
  },
  {
   "cell_type": "markdown",
   "id": "03abf1b6-2cd7-45f0-ad0e-509851b2cd28",
   "metadata": {},
   "source": [
    "Complex Dictionary Examples"
   ]
  },
  {
   "cell_type": "code",
   "execution_count": 40,
   "id": "7fc33272-66b7-4465-b207-4e6d9a2cf92d",
   "metadata": {},
   "outputs": [],
   "source": [
    "#product catalog:\n",
    "product_dict = {'americano':{'name':'Americano', 'price':140},\n",
    "                'brewed':{'name':'Brewed Coffee', 'price':100},\n",
    "                'cappuccino':{'name':'Cappuccino','price':110},\n",
    "                'dalgona': {'name':'Dalgona','price': 120},\n",
    "                'espresso' :{'name':'Espresso','price':110}\n",
    "               }"
   ]
  },
  {
   "cell_type": "code",
   "execution_count": 41,
   "id": "b2cab401-cab6-43c4-98ef-c7201ab5a092",
   "metadata": {},
   "outputs": [
    {
     "data": {
      "text/plain": [
       "{'name': 'Americano', 'price': 140}"
      ]
     },
     "execution_count": 41,
     "metadata": {},
     "output_type": "execute_result"
    }
   ],
   "source": [
    "#get products\n",
    "product_dict[\"americano\"]"
   ]
  },
  {
   "cell_type": "code",
   "execution_count": 42,
   "id": "22d89684-87c4-4017-ad00-87e7a8aae72b",
   "metadata": {},
   "outputs": [
    {
     "name": "stdout",
     "output_type": "stream",
     "text": [
      "110\n"
     ]
    }
   ],
   "source": [
    "#get price\n",
    "print(product_dict['cappuccino']['price'])"
   ]
  },
  {
   "cell_type": "code",
   "execution_count": 43,
   "id": "0ef47c89-8863-40a2-998b-91b259575f77",
   "metadata": {},
   "outputs": [
    {
     "name": "stdout",
     "output_type": "stream",
     "text": [
      "{'americano': {'name': 'Americano', 'price': 140}, 'brewed': {'name': 'Brewed Coffee', 'price': 100}, 'cappuccino': {'name': 'Cappuccino', 'price': 110}, 'dalgona': {'name': 'Dalgona', 'price': 120}, 'espresso': {'name': 'Espresso', 'price': 110}, 'frappucino': {'name': 'Frappucnio', 'price': 200}}\n"
     ]
    }
   ],
   "source": [
    "# add product\n",
    "product_dict['frappucino']={'name':'Frappucnio','price':200}\n",
    "\n",
    "print(product_dict)\n"
   ]
  },
  {
   "cell_type": "code",
   "execution_count": 44,
   "id": "389d8c82-6618-476a-861b-fe69ada5b3ab",
   "metadata": {},
   "outputs": [
    {
     "data": {
      "text/plain": [
       "[140, 100, 110, 120, 110, 200]"
      ]
     },
     "execution_count": 44,
     "metadata": {},
     "output_type": "execute_result"
    }
   ],
   "source": [
    "#get a list of  price\n",
    "[p for p in product_dict] #Returns the keys \n",
    "[p for p in product_dict.values()] #Returns the sub-dictionaries\n",
    "[p['price'] for p in product_dict.values()] #returns price in the sub-dictionaries\n"
   ]
  },
  {
   "cell_type": "code",
   "execution_count": 45,
   "id": "34c9a041-1947-4789-b3dc-8c22b60c7373",
   "metadata": {},
   "outputs": [
    {
     "name": "stdout",
     "output_type": "stream",
     "text": [
      "130.0\n"
     ]
    }
   ],
   "source": [
    "#Get the avg price of all products\n",
    "list_of_price = [p['price'] for p in product_dict.values()]\n",
    "number_of_products = len(product_dict)\n",
    "\n",
    "avg =  sum(list_of_price)/number_of_products\n",
    "print(avg)"
   ]
  },
  {
   "cell_type": "markdown",
   "id": "87fc586e-fe80-4706-9826-68e7b81b8ac0",
   "metadata": {},
   "source": [
    "# More complex examples: run function dynamically\n",
    "Regular customer and a senior citizen that has 25% discount\n",
    "Just apply a straight 25% off"
   ]
  },
  {
   "cell_type": "code",
   "execution_count": 50,
   "id": "e719c570-311c-49ea-ad07-98dbd1408983",
   "metadata": {},
   "outputs": [],
   "source": [
    "#define price functions\n",
    "def reg_price(price):\n",
    "    return price\n",
    "def sc_price(price):\n",
    "    return price * .80\n",
    "    \n",
    "#define dictionaries\n",
    "price_tiers = {'REG':reg_price,'SC':sc_price}\n",
    "\n",
    "customers = {'joben#example.com':{'name':'Joben Ilagan','tier':'SC'},\n",
    "             'joe#example.com':{'name':'Joe Ilagan','tier':'REG'},\n",
    "             'chums#example.com':{'name':'Matthew Uy','tier':'REG'}\n",
    "            }\n",
    "#DEFINE MAIN FUNCTION\n",
    "\n",
    "def quote_price(customer_id, product_id):\n",
    "    tier = customers[customer_id]['tier']\n",
    "    price_func = price_tiers[tier]\n",
    "    base_price = product_dict[product_id]['price'] #we want the value \n",
    "    return price_func(base_price)\n"
   ]
  },
  {
   "cell_type": "code",
   "execution_count": 52,
   "id": "4028cf85-42d4-4a1c-8688-1cc2313728ad",
   "metadata": {},
   "outputs": [
    {
     "name": "stdout",
     "output_type": "stream",
     "text": [
      "140\n",
      "112.0\n"
     ]
    }
   ],
   "source": [
    "#test main function\n",
    "\n",
    "print(quote_price(\"chums#example.com\",\"americano\"))\n",
    "\n",
    "print(quote_price(\"joben#example.com\",\"americano\"))\n"
   ]
  },
  {
   "cell_type": "code",
   "execution_count": 49,
   "id": "1829a837-c814-46fa-865d-736029c39555",
   "metadata": {},
   "outputs": [
    {
     "data": {
      "text/plain": [
       "{'americano': {'name': 'Americano', 'price': 140},\n",
       " 'brewed': {'name': 'Brewed Coffee', 'price': 100},\n",
       " 'cappuccino': {'name': 'Cappuccino', 'price': 110},\n",
       " 'dalgona': {'name': 'Dalgona', 'price': 120},\n",
       " 'espresso': {'name': 'Espresso', 'price': 110},\n",
       " 'frappucino': {'name': 'Frappucnio', 'price': 200}}"
      ]
     },
     "execution_count": 49,
     "metadata": {},
     "output_type": "execute_result"
    }
   ],
   "source": [
    "product_dict"
   ]
  },
  {
   "cell_type": "markdown",
   "id": "585e1472-ae22-460e-8d4a-f662096835fa",
   "metadata": {},
   "source": [
    "## Tuples and Sets"
   ]
  },
  {
   "cell_type": "markdown",
   "id": "86032114-bd8e-4716-bfb5-226f2e973cfd",
   "metadata": {},
   "source": [
    "in operator #returns True if the first term is an element of the second term"
   ]
  },
  {
   "cell_type": "code",
   "execution_count": 55,
   "id": "29645f07-456d-4e84-aa8f-b270b599b674",
   "metadata": {},
   "outputs": [
    {
     "name": "stdout",
     "output_type": "stream",
     "text": [
      "True\n",
      "False\n",
      "True\n"
     ]
    }
   ],
   "source": [
    "#demo: in\n",
    "\n",
    "globe = ['0917','0927']\n",
    "smart = ['0918','0928']\n",
    "\n",
    "print('0917' in globe)\n",
    "print('0917' in smart)\n",
    "print('0918' in smart)"
   ]
  },
  {
   "cell_type": "markdown",
   "id": "88da204a-c9ea-48e1-b3dc-618064b9e768",
   "metadata": {},
   "source": [
    "# Traversing Lists"
   ]
  },
  {
   "cell_type": "code",
   "execution_count": 57,
   "id": "9e4107bb-0b81-46d5-ab40-1ad5737b49b8",
   "metadata": {},
   "outputs": [
    {
     "name": "stdout",
     "output_type": "stream",
     "text": [
      "americano\n",
      "brewed coffee\n",
      "cappuccino\n",
      "dalgona\n",
      "espresso\n",
      "frappucino\n"
     ]
    }
   ],
   "source": [
    "# use while\n",
    "products = ['americano','brewed coffee','cappuccino','dalgona','espresso','frappucino']\n",
    "\n",
    "i = 0\n",
    "\n",
    "while(i<len(products)):\n",
    "    print(products[i])\n",
    "    i+=1\n",
    "\n",
    "#goes through the list one by one, by indexing it until the number is equal to the length "
   ]
  },
  {
   "cell_type": "code",
   "execution_count": 58,
   "id": "f74b5563-52b4-4321-9541-5c53de28cb02",
   "metadata": {},
   "outputs": [
    {
     "name": "stdout",
     "output_type": "stream",
     "text": [
      "americano\n",
      "brewed coffee\n",
      "cappuccino\n",
      "dalgona\n",
      "espresso\n",
      "frappucino\n"
     ]
    }
   ],
   "source": [
    "# use for\n",
    "\n",
    "for p in products: \n",
    "    print(p)"
   ]
  },
  {
   "cell_type": "markdown",
   "id": "403bee8e-d0a5-4414-a2b6-f5cfeea8ccc8",
   "metadata": {},
   "source": [
    "# range()\n",
    "the function returns a list-like value \n",
    "normal usage is range(num), strating with 0 and ending in num-1\n",
    "starting number is inclusive while the last is exclusive"
   ]
  },
  {
   "cell_type": "code",
   "execution_count": 62,
   "id": "91c8aff8-7e45-4d90-9626-5b09d330b95e",
   "metadata": {},
   "outputs": [
    {
     "name": "stdout",
     "output_type": "stream",
     "text": [
      "range(0, 10)\n",
      "[0, 1, 2, 3, 4, 5, 6, 7, 8, 9]\n",
      "[3, 4, 5, 6, 7, 8, 9]\n",
      "[0, 1, 2, 3, 4, 5]\n"
     ]
    }
   ],
   "source": [
    "# range(num)\n",
    "print(range(10))\n",
    "\n",
    "# wrap or convert to list ** the number input is excluse, so it will input 9 instead of 10\n",
    "list(range(10))\n",
    "\n",
    "#range(start,end)\n",
    "print(list(range(0,10)))\n",
    "\n",
    "#range(start,end)\n",
    "\n",
    "print(list(range(3,10)))\n",
    "\n",
    "print(list(range(len(products)))) #use for with a range than an iterable"
   ]
  },
  {
   "cell_type": "code",
   "execution_count": 63,
   "id": "6b0e6e20-3981-4dd8-985e-27379fcecf1a",
   "metadata": {},
   "outputs": [
    {
     "name": "stdout",
     "output_type": "stream",
     "text": [
      "americano\n",
      "brewed coffee\n",
      "cappuccino\n",
      "dalgona\n",
      "espresso\n",
      "frappucino\n"
     ]
    }
   ],
   "source": [
    "for i in range(len(products)):\n",
    "    print(products[i])\n",
    "\n",
    "#how it is usually done in other languages"
   ]
  },
  {
   "cell_type": "markdown",
   "id": "e6e4f3c6-432d-4dfa-ba91-80039cc721a6",
   "metadata": {},
   "source": [
    "# List Comprehension"
   ]
  },
  {
   "cell_type": "code",
   "execution_count": 71,
   "id": "08aef916-1641-423f-9263-9306823345ca",
   "metadata": {},
   "outputs": [
    {
     "name": "stdout",
     "output_type": "stream",
     "text": [
      "['americano', 'brewed coffee', 'cappuccino', 'dalgona', 'espresso', 'frappucino']\n",
      "americano\n",
      "brewed coffee\n",
      "cappuccino\n",
      "dalgona\n",
      "espresso\n",
      "frappucino\n",
      "[None, None, None, None, None, None]\n",
      "['AMERICANO', 'BREWED COFFEE', 'CAPPUCCINO', 'DALGONA', 'ESPRESSO', 'FRAPPUCINO']\n",
      "[0, 1, 2, 3, 4, 5]\n",
      "<class 'list'>\n"
     ]
    }
   ],
   "source": [
    "#list comprehension\n",
    "print([p for p in products])\n",
    "\n",
    "print([print(p)for p in products])\n",
    "\n",
    "print([p.upper() for p in products])\n",
    "\n",
    "print([i for i in range(0,len(products))])\n",
    "\n",
    "print(type([i for i in range(0,len(products))]))"
   ]
  },
  {
   "cell_type": "markdown",
   "id": "e8e61b6f-5788-41e9-8ca3-82562e67e681",
   "metadata": {},
   "source": [
    "# for revised"
   ]
  },
  {
   "cell_type": "code",
   "execution_count": 75,
   "id": "b434f4ba-983f-4cb4-9651-9d0b056544fc",
   "metadata": {},
   "outputs": [
    {
     "name": "stdout",
     "output_type": "stream",
     "text": [
      "T h e   q u i c k   b r o w n   f o x   j u m p s   o v e r   t h e   l a z y   d o g s  \n",
      "The quick brown fox jumps over the lazy dogs Joben/Joe/Elizabeth//"
     ]
    }
   ],
   "source": [
    "# traverse characters in a strong\n",
    "\n",
    "sentence = \"The quick brown fox jumps over the lazy dogs\"\n",
    "\n",
    "for c in sentence:\n",
    "    print (c,end=\" \")\n",
    "    \n",
    "print(\" \")\n",
    "\n",
    "for word in sentence.split(): \n",
    "    print(word,end=\" \")\n",
    "\n",
    "customers = 'Joben,Joe,Elizabeth,'\n",
    "\n",
    "for customer in customers.split(\",\"):\n",
    "    print(student, end=\"/\")\n",
    "    "
   ]
  },
  {
   "cell_type": "markdown",
   "id": "1b5e4a06-82b3-440c-a398-527e4ca21fb4",
   "metadata": {},
   "source": [
    "Initialzing Lists"
   ]
  },
  {
   "cell_type": "code",
   "execution_count": 77,
   "id": "8974c260-3bd6-4a46-a5f0-66b7fcdc9e8f",
   "metadata": {},
   "outputs": [
    {
     "name": "stdout",
     "output_type": "stream",
     "text": [
      "[]\n"
     ]
    }
   ],
   "source": [
    "#list initialization \n",
    "\n",
    "empty_list = []\n",
    "\n",
    "print(empty_list)"
   ]
  },
  {
   "cell_type": "code",
   "execution_count": 78,
   "id": "24f99461-f7f0-4cad-af8f-9e9cbc13a39c",
   "metadata": {},
   "outputs": [
    {
     "name": "stdout",
     "output_type": "stream",
     "text": [
      "['first entry']\n"
     ]
    }
   ],
   "source": [
    "# append()\n",
    "\n",
    "empty_list.append('first entry')\n",
    "print(empty_list)"
   ]
  },
  {
   "cell_type": "code",
   "execution_count": 81,
   "id": "c590ec06-4c9f-493f-bc96-4021fa5982ab",
   "metadata": {},
   "outputs": [
    {
     "name": "stdout",
     "output_type": "stream",
     "text": [
      "['first entry', 2, 2, 2]\n",
      "['americano', 'brewed coffee', 'cappuccino', 'dalgona', 'espresso', 'frappucino']\n",
      "['americano', 'brewed coffee', 'cappuccino', 'dalgona', 'espresso', 'frappucino', 'latte']\n"
     ]
    }
   ],
   "source": [
    "empty_list.append(2)\n",
    "print(empty_list)\n",
    "print(products)\n",
    "products.append('latte')\n",
    "print(products)"
   ]
  },
  {
   "cell_type": "markdown",
   "id": "a7cdbdb6-40dd-4905-bdfe-7d29c23461fa",
   "metadata": {},
   "source": [
    "pop() removes the last  value at the end of the list"
   ]
  },
  {
   "cell_type": "code",
   "execution_count": 82,
   "id": "8c8290a0-5b56-4856-a2d2-9bd9196b3aaa",
   "metadata": {},
   "outputs": [
    {
     "name": "stdout",
     "output_type": "stream",
     "text": [
      "latte\n"
     ]
    }
   ],
   "source": [
    "# pop()\n",
    "\n",
    "popped_value = products.pop()\n",
    "print(popped_value) "
   ]
  },
  {
   "cell_type": "markdown",
   "id": "8b11b4cb-505d-4681-9882-0238af78e516",
   "metadata": {},
   "source": [
    "# List vs Tupples\n",
    "\n",
    "Tuple is immutable"
   ]
  },
  {
   "cell_type": "code",
   "execution_count": 84,
   "id": "ac52df0a-477e-4577-8e6f-12bf5a334f72",
   "metadata": {},
   "outputs": [
    {
     "name": "stdout",
     "output_type": "stream",
     "text": [
      "(2, 4)\n",
      "('0917', '0927')\n",
      "('0917', '0927')\n",
      "('0918', '0928')\n"
     ]
    },
    {
     "data": {
      "text/plain": [
       "'0917'"
      ]
     },
     "execution_count": 84,
     "metadata": {},
     "output_type": "execute_result"
    }
   ],
   "source": [
    "#tupples\n",
    "print((2,4))\n",
    "print(tuple(globe)) #convert list to tuple\n",
    "\n",
    "#tupple immutability\n",
    "globe_tup = tuple(globe)\n",
    "smart_tup = tuple(smart)\n",
    "\n",
    "print(globe_tup)\n",
    "print(smart_tup)\n"
   ]
  },
  {
   "cell_type": "markdown",
   "id": "82a699b5-b5f5-412f-8234-7f06de0c6ee0",
   "metadata": {},
   "source": [
    "# Sets\n",
    "unordered and unindeed collection of unique elements"
   ]
  },
  {
   "cell_type": "code",
   "execution_count": 87,
   "id": "18757cf0-58ca-4856-91e4-3839f644efb2",
   "metadata": {},
   "outputs": [
    {
     "name": "stdout",
     "output_type": "stream",
     "text": [
      "{3, 1, 10, 2}\n"
     ]
    }
   ],
   "source": [
    "# sets\n",
    "demoset = {1,1,2,2,3,3,10}\n",
    "print(demoset) #set of elements that are unique and unordered\n",
    "\n",
    "#keep track of items and just add it to the set, elements would be unique\n"
   ]
  },
  {
   "cell_type": "code",
   "execution_count": 88,
   "id": "c5afa318-ae40-4477-8219-8fa839e0cbea",
   "metadata": {},
   "outputs": [
    {
     "name": "stdout",
     "output_type": "stream",
     "text": [
      "{1, 2, 3, 99, 10}\n"
     ]
    }
   ],
   "source": [
    "demoset.add(99)\n",
    "print(demoset)"
   ]
  },
  {
   "cell_type": "markdown",
   "id": "02df360e-5b0f-42e4-909f-04c4daf896b0",
   "metadata": {},
   "source": [
    "## zip()"
   ]
  },
  {
   "cell_type": "code",
   "execution_count": 93,
   "id": "03cd24dd-eb4a-4ca0-9512-fc3c350513d2",
   "metadata": {},
   "outputs": [
    {
     "name": "stdout",
     "output_type": "stream",
     "text": [
      "[('cappuccino', 120, 'Good'), ('espresso', 140, 'Fair')]\n",
      "[('cappuccino', 120, 'Good'), ('espresso', 140, 'Fair')]\n"
     ]
    }
   ],
   "source": [
    "# basic zip() \n",
    "newprod = ['cappuccino','espresso']\n",
    "newprices = [120,140]\n",
    "new_rate= ['Good','Fair']\n",
    "\n",
    "print(list(zip(newprod,newprices,new_rate))) #everything at index 1 is grouped together\n",
    "\n",
    "#use starred expression to unpack\n",
    "print(list(zip(*[newprod,newprices,new_rate])))"
   ]
  },
  {
   "cell_type": "markdown",
   "id": "cfabaf13-54f1-45ab-83f1-997fd27df4ee",
   "metadata": {},
   "source": [
    "all() returns True if all items in an iterable are true, otherwise it returns False"
   ]
  },
  {
   "cell_type": "code",
   "execution_count": 96,
   "id": "2e621983-194c-4c72-9bdb-4b80ace8a853",
   "metadata": {},
   "outputs": [
    {
     "name": "stdout",
     "output_type": "stream",
     "text": [
      "False\n",
      "True\n"
     ]
    },
    {
     "data": {
      "text/plain": [
       "True"
      ]
     },
     "execution_count": 96,
     "metadata": {},
     "output_type": "execute_result"
    }
   ],
   "source": [
    "# list of integers \n",
    "print(all([1,0,1,1]))\n",
    "\n",
    "print(all([True,True,140==140]))\n",
    "\n",
    "tmplist = [\"A\",\"A\",\"A\",\"A\"]\n",
    "all([a==\"A\" for a in tmplist])\n",
    "\n"
   ]
  },
  {
   "cell_type": "markdown",
   "id": "0ebc8e9c-554a-4829-8cc8-b2f66977ae78",
   "metadata": {},
   "source": [
    "sum()"
   ]
  },
  {
   "cell_type": "code",
   "execution_count": 97,
   "id": "bdcccb40-5aa0-4476-8816-1aa74e20ff5c",
   "metadata": {},
   "outputs": [
    {
     "name": "stdout",
     "output_type": "stream",
     "text": [
      "45\n"
     ]
    }
   ],
   "source": [
    "tmplist2 = [15,15,15]\n",
    "print(sum(tmplist2))\n"
   ]
  },
  {
   "cell_type": "markdown",
   "id": "2361a2d9-7f9b-4a1f-8659-1c7246e10f58",
   "metadata": {},
   "source": [
    "map(function, iterable, ...)\n",
    " function in Python is a built-in function used to apply a specified function to each item in an iterable (like a list, tuple, or string) and return an iterator that yields the results\n",
    "\n",
    " so basically it can make things more simple to look at by separating the function"
   ]
  },
  {
   "cell_type": "code",
   "execution_count": 104,
   "id": "a9319a36-1384-4d31-b645-e5fb79c956ad",
   "metadata": {},
   "outputs": [
    {
     "name": "stdout",
     "output_type": "stream",
     "text": [
      "['Pass', 'Pass', 'Pass', 'Pass', 'Fail', 'Fail', 'Pass']\n",
      "Pass\n",
      "Pass\n",
      "Pass\n",
      "Pass\n",
      "Fail\n",
      "Fail\n",
      "Pass\n"
     ]
    }
   ],
   "source": [
    "def pass_or_fail(grades):\n",
    "    if grades >= 60:\n",
    "        return \"Pass\"\n",
    "    else:\n",
    "        return \"Fail\"\n",
    "\n",
    "grades = [90,94,100,99,59,55,60]\n",
    "\n",
    "print(list(map(pass_or_fail,grades)))\n",
    "\n",
    "for grade in map(pass_or_fail, grades):\n",
    "    print(grade)"
   ]
  },
  {
   "cell_type": "markdown",
   "id": "8b1f7591-0a16-4273-981a-4e4c5882c548",
   "metadata": {},
   "source": [
    "Multidimensional list"
   ]
  },
  {
   "cell_type": "code",
   "execution_count": 106,
   "id": "02726511-7c65-48fb-b3ca-a0455d30eca4",
   "metadata": {},
   "outputs": [],
   "source": [
    "#matrix def\n",
    "matrix = [[8,1,6],\n",
    "          [3,5,7],\n",
    "          [4,9,2],\n",
    "         ]\n"
   ]
  },
  {
   "cell_type": "code",
   "execution_count": 110,
   "id": "37747c1b-d1b0-4b79-aca8-3b0cbc2bb697",
   "metadata": {},
   "outputs": [
    {
     "name": "stdout",
     "output_type": "stream",
     "text": [
      "1\n",
      "[(8, 3, 4), (1, 5, 9), (6, 7, 2)]\n"
     ]
    }
   ],
   "source": [
    "# multi-dimensional lists (Arrays)\n",
    "print(matrix[0][1]) #row zero,column 1\n",
    "\n",
    "# traverse upper-left to lower-right (diagonally)\n",
    "[[matrix[i][i]] for i in range(3)]\n",
    "\n",
    "# traverse lower-left to upper-right\n",
    "[[matrix[3-1-i][i]] for i in range(3)]\n",
    "\n",
    "\n",
    "#using zip with our matrix\n",
    "print([i for i in zip(*matrix)])"
   ]
  },
  {
   "cell_type": "markdown",
   "id": "abb53cf1-09e5-4886-9eb5-a37c9df07753",
   "metadata": {},
   "source": [
    "# Files/JSONS/CSV"
   ]
  }
 ],
 "metadata": {
  "kernelspec": {
   "display_name": "Python 3 (ipykernel)",
   "language": "python",
   "name": "python3"
  },
  "language_info": {
   "codemirror_mode": {
    "name": "ipython",
    "version": 3
   },
   "file_extension": ".py",
   "mimetype": "text/x-python",
   "name": "python",
   "nbconvert_exporter": "python",
   "pygments_lexer": "ipython3",
   "version": "3.13.5"
  }
 },
 "nbformat": 4,
 "nbformat_minor": 5
}
