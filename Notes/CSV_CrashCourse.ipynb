{
 "cells": [
  {
   "cell_type": "markdown",
   "id": "b83a9741-38a5-4096-ae65-7202ae60000d",
   "metadata": {
    "jp-MarkdownHeadingCollapsed": true
   },
   "source": [
    "# CSV Data Format\n",
    "- Comma-separated values, delimited text file that uses a comma to separate valyes\n",
    "- "
   ]
  },
  {
   "cell_type": "markdown",
   "id": "343c651d-c75a-4c47-991d-8301cb8bf356",
   "metadata": {},
   "source": [
    "# Brute-force handling"
   ]
  },
  {
   "cell_type": "code",
   "execution_count": 9,
   "id": "668bfcd5-f51c-411b-bf9e-09dd23da6b8d",
   "metadata": {},
   "outputs": [],
   "source": [
    "# demo: define long string\n",
    "#Using 3 Quotation marks\n",
    "students = \"\"\"id,nickname,course \n",
    "39001,Quarintina,BSMAC\n",
    "39002,COVIDBRYANT,BSMGT\n",
    "39003,TungTung,BSMGT\n",
    "39004,Sahur,BSMGT\n",
    "39005,lala,BSMAC\n",
    "39006,ben,BSITE\n",
    "39007,smegs,BSME\n",
    "39009,Joshua,BSMGTH\n",
    "\"\"\"\n",
    "\n",
    "# importing to Excel\n",
    "## save to file\n",
    "with open('students.csv',\"w\") as f:\n",
    "          f.write(students)\n"
   ]
  },
  {
   "cell_type": "code",
   "execution_count": 10,
   "id": "a1a58330-1efb-4330-809d-6bc9d68f5c81",
   "metadata": {},
   "outputs": [
    {
     "name": "stdout",
     "output_type": "stream",
     "text": [
      "id,nickname,course \n",
      "39001,Quarintina,BSMAC\n",
      "39002,COVIDBRYANT,BSMGT\n",
      "39003,TungTung,BSMGT\n",
      "39004,Sahur,BSMGT\n",
      "39005,lala,BSMAC\n",
      "39006,ben,BSITE\n",
      "39007,smegs,BSME\n",
      "39009,Joshua,BSMGTH\n",
      "39010,Bob,BSMGT\n",
      "39011,the,BSITE\n",
      "\n"
     ]
    }
   ],
   "source": [
    "with open(\"updated_students.csv\",\"r\") as f:  \n",
    "    updated_students = f.read()\n",
    "    \n",
    "print(updated_students)"
   ]
  },
  {
   "cell_type": "code",
   "execution_count": 11,
   "id": "d1c34ac6-d5ec-4aed-95b7-f50e729c8693",
   "metadata": {},
   "outputs": [
    {
     "name": "stdout",
     "output_type": "stream",
     "text": [
      "['id,nickname,course ', '39001,Quarintina,BSMAC', '39002,COVIDBRYANT,BSMGT', '39003,TungTung,BSMGT', '39004,Sahur,BSMGT', '39005,lala,BSMAC', '39006,ben,BSITE', '39007,smegs,BSME', '39009,Joshua,BSMGTH', '39010,Bob,BSMGT', '39011,the,BSITE', '']\n"
     ]
    }
   ],
   "source": [
    "## split student doc into a list of lines\n",
    "students_list = updated_students.split(\"\\n\") #split new character\n",
    "print(students_list)\n"
   ]
  },
  {
   "cell_type": "code",
   "execution_count": 12,
   "id": "25dcd04c-3de0-484c-a40b-54051924b9e7",
   "metadata": {},
   "outputs": [
    {
     "name": "stdout",
     "output_type": "stream",
     "text": [
      "[['id', 'nickname', 'course '], ['39001', 'Quarintina', 'BSMAC'], ['39002', 'COVIDBRYANT', 'BSMGT'], ['39003', 'TungTung', 'BSMGT'], ['39004', 'Sahur', 'BSMGT'], ['39005', 'lala', 'BSMAC'], ['39006', 'ben', 'BSITE'], ['39007', 'smegs', 'BSME'], ['39009', 'Joshua', 'BSMGTH'], ['39010', 'Bob', 'BSMGT'], ['39011', 'the', 'BSITE'], ['']]\n"
     ]
    }
   ],
   "source": [
    "# process each line\n",
    "students_data = [s.split(\",\") for s in students_list] \n",
    "print(students_data)\n",
    "\n",
    "sublist"
   ]
  },
  {
   "cell_type": "code",
   "execution_count": 13,
   "id": "f47d6826-484b-4853-ad13-a8c0547a7852",
   "metadata": {},
   "outputs": [
    {
     "data": {
      "text/plain": [
       "'BSMAC'"
      ]
     },
     "execution_count": 13,
     "metadata": {},
     "output_type": "execute_result"
    }
   ],
   "source": [
    "# access specific element in sublist\n",
    "\n",
    "students_data[1][2]\n",
    "# the course of quarantina"
   ]
  },
  {
   "cell_type": "markdown",
   "id": "c3f668ae-c051-4c37-bf2f-b8a69f984518",
   "metadata": {},
   "source": [
    "## Python's CSV MODULE"
   ]
  },
  {
   "cell_type": "markdown",
   "id": "d6d22fa8-bf10-4aff-a6b4-3256936f47b3",
   "metadata": {},
   "source": [
    "#### Reading CSV files"
   ]
  },
  {
   "cell_type": "code",
   "execution_count": 16,
   "id": "d7aadf6f-b4e9-4c1f-9bfc-989a80df412b",
   "metadata": {},
   "outputs": [
    {
     "name": "stdout",
     "output_type": "stream",
     "text": [
      "<class '_csv.reader'>\n",
      "['id', 'nickname', 'course ']\n",
      "['39001', 'Quarintina', 'BSMAC']\n",
      "['39002', 'COVIDBRYANT', 'BSMGT']\n",
      "['39003', 'TungTung', 'BSMGT']\n",
      "['39004', 'Sahur', 'BSMGT']\n",
      "['39005', 'lala', 'BSMAC']\n",
      "['39006', 'ben', 'BSITE']\n",
      "['39007', 'smegs', 'BSME']\n",
      "['39009', 'Joshua', 'BSMGTH']\n",
      "['39010', 'Bob', 'BSMGT']\n",
      "['39011', 'the', 'BSITE']\n",
      "[['id', 'nickname', 'course '], ['39001', 'Quarintina', 'BSMAC'], ['39002', 'COVIDBRYANT', 'BSMGT'], ['39003', 'TungTung', 'BSMGT'], ['39004', 'Sahur', 'BSMGT'], ['39005', 'lala', 'BSMAC'], ['39006', 'ben', 'BSITE'], ['39007', 'smegs', 'BSME'], ['39009', 'Joshua', 'BSMGTH'], ['39010', 'Bob', 'BSMGT'], ['39011', 'the', 'BSITE']]\n"
     ]
    }
   ],
   "source": [
    "# use csv module\n",
    "\n",
    "#import csv\n",
    "import csv\n",
    "\n",
    "new_student_list = []\n",
    "\n",
    "#read csv saved previously\n",
    "with open('updated_students.csv','r') as csvfile:\n",
    "    csvreader = csv.reader(csvfile)\n",
    "    # get type of csvreader\n",
    "    print(type(csvreader)) #Classes are more advanced data types\n",
    "\n",
    "    #traverse through the rows of the file\n",
    "    for r in csvreader:\n",
    "        print(r) #So you get a dump of list\n",
    "                # but you want to add to the main list\n",
    "        new_student_list.append(r)\n",
    "        \n",
    "print(new_student_list)"
   ]
  },
  {
   "cell_type": "markdown",
   "id": "d0e55bb1-ba56-4170-8790-b7a717fed7e9",
   "metadata": {},
   "source": [
    "## Writing CSV files"
   ]
  },
  {
   "cell_type": "code",
   "execution_count": 20,
   "id": "ce50d4fd-55e3-4869-a50b-fe3ba7dbfcdd",
   "metadata": {},
   "outputs": [],
   "source": [
    "# write CSV\n",
    "\n",
    "with open('new_students_3.csv',\"w\") as csvfile:\n",
    "    csvwriter = csv.writer(csvfile)\n",
    "\n",
    "    for r in new_student_list:\n",
    "        csvwriter.writerow(r)\n",
    "        "
   ]
  },
  {
   "cell_type": "markdown",
   "id": "d309902f-c63e-4a9b-a32e-f9014a018b46",
   "metadata": {},
   "source": [
    "## Reading and Writing CSVs using Dictionaries"
   ]
  },
  {
   "cell_type": "code",
   "execution_count": 24,
   "id": "d216e96c-3e77-485e-8483-e4ba8fefacda",
   "metadata": {},
   "outputs": [],
   "source": [
    "# append dictionary to csv file\n",
    "#file doesn't exist but if you use append it should be fine) \n",
    "\n",
    "\n",
    "with open('new_students_4.csv',\"a\") as csvfile:\n",
    "    field_names = ['id','nickname','course']\n",
    "    writer =  csv.DictWriter(csvfile,fieldnames=field_names)\n",
    "\n",
    "    writer.writeheader()\n",
    "    writer.writerow({'id':'39012','nickname':'Pandemica','course':'BSITE'})\n",
    "    writer.writerow({'id':'39013','nickname':'iSKO','course':'BSITE'})\n",
    "    writer.writerow({'id':'39014','nickname':'Donald','course':'BSITE',})\n",
    "    \n",
    "            "
   ]
  },
  {
   "cell_type": "code",
   "execution_count": 28,
   "id": "884bcf64-2f5b-4eec-9b7a-fa50736cf610",
   "metadata": {},
   "outputs": [
    {
     "name": "stdout",
     "output_type": "stream",
     "text": [
      "id nickname course\n",
      "39012 Pandemica BSITE\n",
      "39013 iSKO BSITE\n",
      "39014 Donald BSITE\n"
     ]
    }
   ],
   "source": [
    "# read csv into dictionary\n",
    "\n",
    "with open('new_students_4.csv','r') as csvfile:\n",
    "    reader = csv.DictReader(csvfile)\n",
    "    for row in reader:\n",
    "        print(row['id'],row['nickname'],row['course'])"
   ]
  },
  {
   "cell_type": "code",
   "execution_count": null,
   "id": "e55d0994-24a0-4241-922b-d7597bc57ead",
   "metadata": {},
   "outputs": [],
   "source": []
  }
 ],
 "metadata": {
  "kernelspec": {
   "display_name": "Python 3 (ipykernel)",
   "language": "python",
   "name": "python3"
  },
  "language_info": {
   "codemirror_mode": {
    "name": "ipython",
    "version": 3
   },
   "file_extension": ".py",
   "mimetype": "text/x-python",
   "name": "python",
   "nbconvert_exporter": "python",
   "pygments_lexer": "ipython3",
   "version": "3.13.5"
  }
 },
 "nbformat": 4,
 "nbformat_minor": 5
}
