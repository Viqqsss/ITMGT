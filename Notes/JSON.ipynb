{
 "cells": [
  {
   "cell_type": "markdown",
   "id": "da424d79-7eca-435d-9f93-466d2d3881d9",
   "metadata": {},
   "source": [
    "# Json\n",
    "- Human readable text to transer data\n",
    "- attribute-value pairs\n",
    "- JavaScript\n",
    "- situations where you have to ask code but the website is written in JSON. JSON for interapp communication\n",
    "- .json"
   ]
  },
  {
   "cell_type": "code",
   "execution_count": 8,
   "id": "520f41b6-d7eb-4325-b5e2-e63cccd3ee3d",
   "metadata": {},
   "outputs": [
    {
     "name": "stdout",
     "output_type": "stream",
     "text": [
      "\n",
      "{\"code\":\"expresso\",\"name\":\"Espresso\",\"price\":\"110\"}\n",
      "\n"
     ]
    }
   ],
   "source": [
    "# demo\n",
    "jsonstring = \"\"\"\n",
    "{\"code\":\"expresso\",\"name\":\"Espresso\",\"price\":\"110\"} \n",
    "\"\"\"\n",
    "#looks similar to a dict in python but is not\n",
    "# display type\n",
    "type(jsonstring)\n",
    "\n",
    "#dump string\n",
    "print(jsonstring) #it is a string at this point"
   ]
  },
  {
   "cell_type": "markdown",
   "id": "5476dfbd-41e5-407d-a165-39402d7dc98f",
   "metadata": {},
   "source": [
    "The json module \n",
    "- library within python "
   ]
  },
  {
   "cell_type": "code",
   "execution_count": 10,
   "id": "0c3a891f-461b-47f4-a851-ee1495687e4d",
   "metadata": {},
   "outputs": [
    {
     "name": "stdout",
     "output_type": "stream",
     "text": [
      "{'code': 'expresso', 'name': 'Espresso', 'price': '110'}\n",
      "<class 'dict'>\n"
     ]
    }
   ],
   "source": [
    "import json\n",
    "\n",
    "jsondata = json.loads(jsonstring)\n",
    "\n",
    "#dump json data\n",
    "print(jsondata)\n",
    "\n",
    "#json uses \" not just single '\n",
    "\n",
    "#display type \n",
    "print(type(jsondata))\n",
    "\n",
    "#get the json data, and rather than crafting by hand we can just load it directly using the JSON lib\n"
   ]
  },
  {
   "cell_type": "code",
   "execution_count": 17,
   "id": "1b1fd981-b1cd-4659-98c3-b83320a8c7bf",
   "metadata": {},
   "outputs": [
    {
     "name": "stdout",
     "output_type": "stream",
     "text": [
      "[{'code': 'espresso', 'name': 'Espresso', 'price': 110}, {'code': 'americano', 'name': 'Americano', 'price': 140}, {'code': 'cappuccino', 'name': 'Cappuccino', 'price': 120}]\n",
      "<class 'list'>\n"
     ]
    }
   ],
   "source": [
    "# more complex json string(list or array)\n",
    "jsonliststring = \"\"\"\n",
    "[\n",
    "    {\"code\":\"espresso\",\"name\":\"Espresso\",\"price\":110},\n",
    "    {\"code\":\"americano\",\"name\":\"Americano\",\"price\":140},\n",
    "    {\"code\":\"cappuccino\",\"name\":\"Cappuccino\",\"price\":120}\n",
    "\n",
    "]\n",
    "\"\"\"\n",
    "\n",
    "#convert json to Python data type\n",
    "jsonlistdata = json.loads(jsonliststring)\n",
    "\n",
    "print(jsonlistdata) #looks like a string\n",
    "print(type(jsonlistdata)) #this entire thing was turned into a list, the lib knows how to convert into its Python"
   ]
  },
  {
   "cell_type": "markdown",
   "id": "8397e923-6b84-41f6-9e67-212b132390c0",
   "metadata": {},
   "source": [
    "WRITE PYTHON DATA TO JSON FILE"
   ]
  },
  {
   "cell_type": "code",
   "execution_count": 18,
   "id": "a511f327-c1d2-46ab-ad9d-f18bdb74c85e",
   "metadata": {},
   "outputs": [],
   "source": [
    "with open('cp_menu.json','w') as menu_file:\n",
    "    json.dump(jsonlistdata,menu_file)\n",
    "\n",
    "#These are just a bunch of characters not strings"
   ]
  },
  {
   "cell_type": "code",
   "execution_count": 20,
   "id": "fad10dfd-2a59-4560-a20b-28fbb6e439ce",
   "metadata": {},
   "outputs": [
    {
     "name": "stdout",
     "output_type": "stream",
     "text": [
      "[{'code': 'espresso', 'name': 'Espresso', 'price': 110}, {'code': 'americano', 'name': 'Americano', 'price': 140}, {'code': 'cappuccino', 'name': 'Cappuccino', 'price': 120}, {'code': 'dalgona', 'name': 'Dalgona', 'price': 120}]\n",
      "<class 'list'>\n"
     ]
    }
   ],
   "source": [
    "#Read JSON from file into Python\n",
    "\n",
    "with open('cp_menu.json','r') as menu_file:\n",
    "    jsondata2 = json.loads(menu_file.read())\n",
    "\n",
    "print(jsondata2)\n",
    "print(type(jsondata2))\n",
    "\n",
    "    "
   ]
  },
  {
   "cell_type": "code",
   "execution_count": null,
   "id": "43a1d84c-dfe1-458a-a9d6-f2386b2dbd2c",
   "metadata": {},
   "outputs": [],
   "source": []
  }
 ],
 "metadata": {
  "kernelspec": {
   "display_name": "Python 3 (ipykernel)",
   "language": "python",
   "name": "python3"
  },
  "language_info": {
   "codemirror_mode": {
    "name": "ipython",
    "version": 3
   },
   "file_extension": ".py",
   "mimetype": "text/x-python",
   "name": "python",
   "nbconvert_exporter": "python",
   "pygments_lexer": "ipython3",
   "version": "3.13.5"
  }
 },
 "nbformat": 4,
 "nbformat_minor": 5
}
