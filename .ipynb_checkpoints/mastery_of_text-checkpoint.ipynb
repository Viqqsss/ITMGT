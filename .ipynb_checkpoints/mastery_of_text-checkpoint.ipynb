{
 "cells": [
  {
   "cell_type": "code",
   "execution_count": 7,
   "id": "dca124e0-c6de-467f-ae46-16adfbfd9a45",
   "metadata": {},
   "outputs": [
    {
     "name": "stdout",
     "output_type": "stream",
     "text": [
      "The string has 99968 lines\n"
     ]
    }
   ],
   "source": [
    "import urllib.request\n",
    "with urllib.request.urlopen('https://www.gutenberg.org/cache/epub/10/pg10.txt') as response:\n",
    "    pg10 = response.read()"
   ]
  },
  {
   "cell_type": "code",
   "execution_count": 8,
   "id": "24ca842f-7a86-4c72-bfe6-2eb0feabd2e8",
   "metadata": {},
   "outputs": [
    {
     "name": "stdout",
     "output_type": "stream",
     "text": [
      "The string has 99968 lines\n"
     ]
    }
   ],
   "source": [
    "#Lines of the string\n",
    "lines = len(pg10.splitlines())\n",
    "print(f\"The string has {lines} lines\")\n",
    "\n"
   ]
  },
  {
   "cell_type": "code",
   "execution_count": 19,
   "id": "88e9ad30-4389-4d47-be08-b31e8f31a038",
   "metadata": {},
   "outputs": [
    {
     "ename": "AttributeError",
     "evalue": "'int' object has no attribute 'isalpha'",
     "output_type": "error",
     "traceback": [
      "\u001b[1;31m---------------------------------------------------------------------------\u001b[0m",
      "\u001b[1;31mAttributeError\u001b[0m                            Traceback (most recent call last)",
      "Cell \u001b[1;32mIn[19], line 8\u001b[0m\n\u001b[0;32m      5\u001b[0m inside_word \u001b[38;5;241m=\u001b[39m \u001b[38;5;28;01mFalse\u001b[39;00m \u001b[38;5;66;03m#Boolean to detect if it is still in a word\u001b[39;00m\n\u001b[0;32m      7\u001b[0m \u001b[38;5;28;01mfor\u001b[39;00m l \u001b[38;5;129;01min\u001b[39;00m pg10:    \u001b[38;5;66;03m#For loop to separate each element in the string\u001b[39;00m\n\u001b[1;32m----> 8\u001b[0m     \u001b[38;5;28;01mif\u001b[39;00m l\u001b[38;5;241m.\u001b[39misalpha():  \u001b[38;5;66;03m#If the element is a letter then:\u001b[39;00m\n\u001b[0;32m      9\u001b[0m         \u001b[38;5;28;01mif\u001b[39;00m \u001b[38;5;129;01mnot\u001b[39;00m inside_word:     \u001b[38;5;66;03m# it will count the first letter as word then\u001b[39;00m\n\u001b[0;32m     10\u001b[0m             num_words \u001b[38;5;241m+\u001b[39m\u001b[38;5;241m=\u001b[39m \u001b[38;5;241m1\u001b[39m      \u001b[38;5;66;03m# ignores the rest of the elements until it encounters an element that is not a letter\u001b[39;00m\n",
      "\u001b[1;31mAttributeError\u001b[0m: 'int' object has no attribute 'isalpha'"
     ]
    }
   ],
   "source": [
    "#How many words does the string have? \n",
    "#(where a word is any set of directly-adjacent alphabet characters)\n",
    "\n",
    "num_words = 0   #Catcher variable\n",
    "inside_word = False #Boolean to detect if it is still in a word\n",
    "\n",
    "for l in pg10:    #For loop to separate each element in the string\n",
    "    if l.isalpha():  #If the element is a letter then:\n",
    "        if not inside_word:     # it will count the first letter as word then\n",
    "            num_words += 1      # ignores the rest of the elements until it encounters an element that is not a letter\n",
    "            inside_word = True  \n",
    "    else:\n",
    "        inside_word = False  \n",
    "\n",
    "print(f\"The number of words is: {num_words}\")"
   ]
  },
  {
   "cell_type": "code",
   "execution_count": 25,
   "id": "f5fccefc-c7a8-4f89-bb22-47866c44faa4",
   "metadata": {},
   "outputs": [
    {
     "ename": "TypeError",
     "evalue": "a bytes-like object is required, not 'str'",
     "output_type": "error",
     "traceback": [
      "\u001b[1;31m---------------------------------------------------------------------------\u001b[0m",
      "\u001b[1;31mTypeError\u001b[0m                                 Traceback (most recent call last)",
      "Cell \u001b[1;32mIn[25], line 4\u001b[0m\n\u001b[0;32m      1\u001b[0m \u001b[38;5;66;03m#How many times does the word \"apostle\",\u001b[39;00m\n\u001b[0;32m      2\u001b[0m \u001b[38;5;66;03m#ignoring capitalization, appear in the string?\u001b[39;00m\n\u001b[0;32m      3\u001b[0m lowercase \u001b[38;5;241m=\u001b[39m pg10\u001b[38;5;241m.\u001b[39mlower()\n\u001b[1;32m----> 4\u001b[0m answer \u001b[38;5;241m=\u001b[39m lowercase\u001b[38;5;241m.\u001b[39msplit(\u001b[38;5;124m\"\u001b[39m\u001b[38;5;124m \u001b[39m\u001b[38;5;124m\"\u001b[39m)\n\u001b[0;32m      5\u001b[0m count \u001b[38;5;241m=\u001b[39m \u001b[38;5;241m0\u001b[39m\n\u001b[0;32m      6\u001b[0m \u001b[38;5;28;01mfor\u001b[39;00m occurence \u001b[38;5;129;01min\u001b[39;00m answer:\n",
      "\u001b[1;31mTypeError\u001b[0m: a bytes-like object is required, not 'str'"
     ]
    }
   ],
   "source": [
    "#How many times does the word \"apostle\",\n",
    "#ignoring capitalization, appear in the string?\n",
    "lowercase = pg10.lower()\n",
    "answer = lowercase.split()\n",
    "count = 0\n",
    "for occurence in answer:\n",
    "    if \"apostle\" == occurence:\n",
    "        count += 1\n",
    "print(count)\n"
   ]
  },
  {
   "cell_type": "code",
   "execution_count": 26,
   "id": "24e2f120-77cc-403d-ab32-48efe362f5df",
   "metadata": {},
   "outputs": [],
   "source": [
    "#What is the most common word, ignoring capitalization, in the string? \n",
    "#(where a word is any set of directly-adjacent alphabet characters)"
   ]
  },
  {
   "cell_type": "code",
   "execution_count": null,
   "id": "4b9b0081-9a9c-438d-9562-9cdece4296cf",
   "metadata": {},
   "outputs": [],
   "source": []
  },
  {
   "cell_type": "code",
   "execution_count": null,
   "id": "96493030-806d-4ee8-9a7e-f95d3a2767c5",
   "metadata": {},
   "outputs": [],
   "source": []
  }
 ],
 "metadata": {
  "kernelspec": {
   "display_name": "Python 3 (ipykernel)",
   "language": "python",
   "name": "python3"
  },
  "language_info": {
   "codemirror_mode": {
    "name": "ipython",
    "version": 3
   },
   "file_extension": ".py",
   "mimetype": "text/x-python",
   "name": "python",
   "nbconvert_exporter": "python",
   "pygments_lexer": "ipython3",
   "version": "3.13.5"
  }
 },
 "nbformat": 4,
 "nbformat_minor": 5
}
