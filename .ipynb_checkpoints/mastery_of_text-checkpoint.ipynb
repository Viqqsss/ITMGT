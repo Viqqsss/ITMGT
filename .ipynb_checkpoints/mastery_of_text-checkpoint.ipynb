{
 "cells": [
  {
   "cell_type": "code",
   "execution_count": 3,
   "id": "dca124e0-c6de-467f-ae46-16adfbfd9a45",
   "metadata": {},
   "outputs": [],
   "source": [
    "import urllib.request\n",
    "with urllib.request.urlopen('https://www.gutenberg.org/cache/epub/10/pg10.txt') as response:\n",
    "    pg10 = response.read()"
   ]
  },
  {
   "cell_type": "code",
   "execution_count": 4,
   "id": "24ca842f-7a86-4c72-bfe6-2eb0feabd2e8",
   "metadata": {},
   "outputs": [
    {
     "name": "stdout",
     "output_type": "stream",
     "text": [
      "The string has 99968 lines\n"
     ]
    }
   ],
   "source": [
    "#Lines of the string\n",
    "lines = len(pg10.splitlines())\n",
    "print(f\"The string has {lines} lines\")"
   ]
  },
  {
   "cell_type": "code",
   "execution_count": 5,
   "id": "88e9ad30-4389-4d47-be08-b31e8f31a038",
   "metadata": {},
   "outputs": [
    {
     "name": "stdout",
     "output_type": "stream",
     "text": [
      "Word count: 749560\n"
     ]
    }
   ],
   "source": [
    "#How many words does the string have? \n",
    "#(where a word is any set of directly-adjacent alphabet characters)\n",
    "\n",
    "pg10 = str(pg10)\n",
    "words = pg10.split()\n",
    "word_count = len(words)\n",
    "print(f\"Word count: {word_count}\")"
   ]
  },
  {
   "cell_type": "code",
   "execution_count": 6,
   "id": "f5fccefc-c7a8-4f89-bb22-47866c44faa4",
   "metadata": {},
   "outputs": [
    {
     "name": "stdout",
     "output_type": "stream",
     "text": [
      "The word apostle appears 113\n"
     ]
    }
   ],
   "source": [
    "#How many times does the word \"apostle\",\n",
    "#ignoring capitalization, appear in the string?\n",
    "\n",
    "pg10 = str(pg10)\n",
    "low_pg10 = pg10.lower()\n",
    "\n",
    "apostle_count = low_pg10.count(\"apostle\")\n",
    "\n",
    "print(f\"The word apostle appears {apostle_count}\")\n",
    "#Ctrl+F gives me 113 so it should be right?"
   ]
  },
  {
   "cell_type": "code",
   "execution_count": 8,
   "id": "24e2f120-77cc-403d-ab32-48efe362f5df",
   "metadata": {},
   "outputs": [
    {
     "name": "stdout",
     "output_type": "stream",
     "text": [
      "r 199936\n"
     ]
    }
   ],
   "source": [
    "#What is the most common word, ignoring capitalization, in the string? \n",
    "#(where a word is any set of directly-adjacent alphabet characters)\n",
    "for i in words:\n",
    "    lw = i.lower()\n",
    "    if lw in word_counts:\n",
    "        word_counts[lw] += 1\n",
    "    else:\n",
    "        word_counts[lw] = 1\n",
    "\n",
    "most_common_word = \"\"\n",
    "most_common_count = 0\n",
    "for i in word_counts:\n",
    "    if word_counts[i] > most_common_count:\n",
    "        most_common_word = i\n",
    "        most_common_count = word_counts[i]\n",
    "\n",
    "print(most_common_word, most_common_count)\n"
   ]
  },
  {
   "cell_type": "code",
   "execution_count": null,
   "id": "87fd042f-d583-4a74-8ca1-6f3397bef96f",
   "metadata": {},
   "outputs": [],
   "source": []
  }
 ],
 "metadata": {
  "kernelspec": {
   "display_name": "Python 3 (ipykernel)",
   "language": "python",
   "name": "python3"
  },
  "language_info": {
   "codemirror_mode": {
    "name": "ipython",
    "version": 3
   },
   "file_extension": ".py",
   "mimetype": "text/x-python",
   "name": "python",
   "nbconvert_exporter": "python",
   "pygments_lexer": "ipython3",
   "version": "3.13.5"
  }
 },
 "nbformat": 4,
 "nbformat_minor": 5
}
